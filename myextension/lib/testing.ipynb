{
 "cells": [
  {
   "cell_type": "code",
   "execution_count": 1,
   "id": "c7eee0e7-3ff1-468b-af2c-d74e869b8f39",
   "metadata": {},
   "outputs": [],
   "source": [
    "a = 10\n",
    "b = a + 10"
   ]
  },
  {
   "cell_type": "code",
   "execution_count": null,
   "id": "7a76790f-1998-4c46-841f-3e093e2d95a8",
   "metadata": {},
   "outputs": [],
   "source": []
  },
  {
   "cell_type": "code",
   "execution_count": 2,
   "id": "3dc4224e-ee88-438a-b58a-13630611a1fd",
   "metadata": {},
   "outputs": [
    {
     "data": {
      "text/plain": [
       "20"
      ]
     },
     "execution_count": 2,
     "metadata": {},
     "output_type": "execute_result"
    }
   ],
   "source": [
    "b"
   ]
  },
  {
   "cell_type": "code",
   "execution_count": null,
   "id": "3b039dbb-6e68-46e3-af25-39cafa55dde5",
   "metadata": {},
   "outputs": [],
   "source": [
    "a = 20"
   ]
  }
 ],
 "metadata": {
  "kernelspec": {
   "display_name": "Python 3 (ipykernel)",
   "language": "python",
   "name": "python3"
  },
  "language_info": {
   "codemirror_mode": {
    "name": "ipython",
    "version": 3
   },
   "file_extension": ".py",
   "mimetype": "text/x-python",
   "name": "python",
   "nbconvert_exporter": "python",
   "pygments_lexer": "ipython3",
   "version": "3.12.3"
  }
 },
 "nbformat": 4,
 "nbformat_minor": 5
}
