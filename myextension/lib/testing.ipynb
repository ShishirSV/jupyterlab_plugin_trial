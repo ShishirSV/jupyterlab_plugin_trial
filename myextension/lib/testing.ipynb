{
 "cells": [
  {
   "cell_type": "code",
   "execution_count": 1,
   "id": "c7eee0e7-3ff1-468b-af2c-d74e869b8f39",
   "metadata": {
    "slideshow": {
     "slide_type": ""
    },
    "tags": []
   },
   "outputs": [],
   "source": [
    "a = 10\n",
    "b = a + 10"
   ]
  },
  {
   "cell_type": "code",
   "execution_count": null,
   "id": "67599e54-3ce0-42cb-970a-2ad1265bd53e",
   "metadata": {},
   "outputs": [],
   "source": [
    "# id:\n",
    "# description:\n",
    "# acceptance_criteria:"
   ]
  },
  {
   "cell_type": "code",
   "execution_count": null,
   "id": "eef2d315-ea13-4cbb-b71b-e6de463fe5c3",
   "metadata": {},
   "outputs": [],
   "source": [
    "# id:\n",
    "# description:\n",
    "# acceptance_criteria:"
   ]
  },
  {
   "cell_type": "code",
   "execution_count": null,
   "id": "e8a086fc-b6b3-4c34-8288-7b7165330dff",
   "metadata": {},
   "outputs": [],
   "source": [
    "# id:\n",
    "# description:\n",
    "# acceptance_criteria:"
   ]
  },
  {
   "cell_type": "code",
   "execution_count": null,
   "id": "c426feeb-9df6-4518-9d7f-ffe8a449e32e",
   "metadata": {},
   "outputs": [],
   "source": [
    "# id:\n",
    "# description:\n",
    "# acceptance_criteria:"
   ]
  },
  {
   "cell_type": "code",
   "execution_count": null,
   "id": "6673d951-5e1c-4bc3-87e3-b306e3fa3a1d",
   "metadata": {},
   "outputs": [],
   "source": []
  },
  {
   "cell_type": "code",
   "execution_count": null,
   "id": "09d4ba52-f67e-4ddf-a898-da0f93ffee2d",
   "metadata": {},
   "outputs": [],
   "source": [
    "# id:\n",
    "# description:\n",
    "# acceptance_criteria:"
   ]
  },
  {
   "cell_type": "code",
   "execution_count": null,
   "id": "95d33d87-7cc0-49bf-b0a3-a86d565f0e55",
   "metadata": {
    "slideshow": {
     "slide_type": ""
    },
    "tags": []
   },
   "outputs": [],
   "source": [
    "# id:423\n",
    "# description: \n",
    "# acceptance_criteria: my nmae is\n",
    "# workflow:\n",
    "# exception_worklow:\n",
    "# something_else:"
   ]
  },
  {
   "cell_type": "code",
   "execution_count": 2,
   "id": "3dc4224e-ee88-438a-b58a-13630611a1fd",
   "metadata": {},
   "outputs": [
    {
     "data": {
      "text/plain": [
       "20"
      ]
     },
     "execution_count": 2,
     "metadata": {},
     "output_type": "execute_result"
    }
   ],
   "source": [
    "b"
   ]
  },
  {
   "cell_type": "code",
   "execution_count": 2,
   "id": "13aced70-2c17-4842-b11d-e6ba4401da8b",
   "metadata": {},
   "outputs": [],
   "source": [
    "# id: 789\n",
    "# description: \n",
    "# accpentance_criteria: my name is"
   ]
  },
  {
   "cell_type": "code",
   "execution_count": null,
   "id": "7a123ad3-8cfd-4468-9bd6-79b1c9af218b",
   "metadata": {
    "editable": false,
    "slideshow": {
     "slide_type": ""
    },
    "tags": []
   },
   "outputs": [],
   "source": [
    "# id: \n",
    "# description: \n",
    "# accpentance_criteria: "
   ]
  },
  {
   "cell_type": "code",
   "execution_count": null,
   "id": "077360a3-9d30-4140-9203-cdb051e59140",
   "metadata": {},
   "outputs": [],
   "source": [
    "# id:\n",
    "# description:\n",
    "# acceptance_criteria:"
   ]
  },
  {
   "cell_type": "code",
   "execution_count": null,
   "id": "48a6fb80-8bbf-4650-9fc5-c07d3b970893",
   "metadata": {},
   "outputs": [],
   "source": [
    "# id: \n",
    "# description: \n",
    "# accpentance_criteria: "
   ]
  },
  {
   "cell_type": "code",
   "execution_count": null,
   "id": "3b039dbb-6e68-46e3-af25-39cafa55dde5",
   "metadata": {},
   "outputs": [],
   "source": [
    "a = 20"
   ]
  },
  {
   "cell_type": "code",
   "execution_count": null,
   "id": "d1d1877f-0914-41b9-b1ac-86998a01ab51",
   "metadata": {},
   "outputs": [],
   "source": []
  },
  {
   "cell_type": "code",
   "execution_count": null,
   "id": "9a26745f-773f-4728-862e-8e0920ff590c",
   "metadata": {},
   "outputs": [],
   "source": [
    "# description:\n",
    "# acceptance_criteria:"
   ]
  },
  {
   "cell_type": "code",
   "execution_count": null,
   "id": "e12319b8-b2dc-4897-b4bd-98950db32525",
   "metadata": {},
   "outputs": [],
   "source": [
    "# id: test123\n",
    "# description: \n",
    "# accpentance_criteria: "
   ]
  },
  {
   "cell_type": "code",
   "execution_count": null,
   "id": "2cb1cda2-dc73-40fc-8327-f23a13223568",
   "metadata": {},
   "outputs": [],
   "source": [
    "# id:1 \n",
    "# description:1 \n",
    "# acceptance_criteria:1 \n",
    "# workflow:\n",
    "# exception_worklow:\n",
    "# something_else:\n",
    "# Approved"
   ]
  }
 ],
 "metadata": {
  "kernelspec": {
   "display_name": "Python 3 (ipykernel)",
   "language": "python",
   "name": "python3"
  },
  "language_info": {
   "codemirror_mode": {
    "name": "ipython",
    "version": 3
   },
   "file_extension": ".py",
   "mimetype": "text/x-python",
   "name": "python",
   "nbconvert_exporter": "python",
   "pygments_lexer": "ipython3",
   "version": "3.11.5"
  }
 },
 "nbformat": 4,
 "nbformat_minor": 5
}
