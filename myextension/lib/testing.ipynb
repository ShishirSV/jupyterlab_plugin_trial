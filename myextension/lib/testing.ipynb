{
 "cells": [
  {
   "cell_type": "code",
   "execution_count": 1,
   "id": "c7eee0e7-3ff1-468b-af2c-d74e869b8f39",
   "metadata": {},
   "outputs": [],
   "source": [
    "a = 10\n",
    "b = a + 10"
   ]
  },
  {
   "cell_type": "code",
   "execution_count": null,
   "id": "6673d951-5e1c-4bc3-87e3-b306e3fa3a1d",
   "metadata": {},
   "outputs": [],
   "source": []
  },
  {
   "cell_type": "code",
   "execution_count": 2,
   "id": "3dc4224e-ee88-438a-b58a-13630611a1fd",
   "metadata": {},
   "outputs": [
    {
     "data": {
      "text/plain": [
       "20"
      ]
     },
     "execution_count": 2,
     "metadata": {},
     "output_type": "execute_result"
    }
   ],
   "source": [
    "b"
   ]
  },
  {
   "cell_type": "code",
   "execution_count": 2,
   "id": "13aced70-2c17-4842-b11d-e6ba4401da8b",
   "metadata": {},
   "outputs": [],
   "source": [
    "# id: 789\n",
    "# description: \n",
    "# accpentance_criteria: my name is"
   ]
  },
  {
   "cell_type": "code",
   "execution_count": null,
   "id": "7a123ad3-8cfd-4468-9bd6-79b1c9af218b",
   "metadata": {},
   "outputs": [],
   "source": [
    "# id: \n",
    "# description: \n",
    "# accpentance_criteria: "
   ]
  },
  {
   "cell_type": "code",
   "execution_count": null,
   "id": "9b3ff88e-5d9f-46b2-be69-d91ed1f5a534",
   "metadata": {},
   "outputs": [],
   "source": [
    "# id: \n",
    "# description: \n",
    "# accpentance_criteria: "
   ]
  },
  {
   "cell_type": "code",
   "execution_count": null,
   "id": "3b039dbb-6e68-46e3-af25-39cafa55dde5",
   "metadata": {},
   "outputs": [],
   "source": [
    "a = 20"
   ]
  },
  {
   "cell_type": "code",
   "execution_count": null,
   "id": "d1d1877f-0914-41b9-b1ac-86998a01ab51",
   "metadata": {},
   "outputs": [],
   "source": []
  },
  {
   "cell_type": "code",
   "execution_count": null,
   "id": "e12319b8-b2dc-4897-b4bd-98950db32525",
   "metadata": {},
   "outputs": [],
   "source": [
    "# id: test123\n",
    "# description: \n",
    "# accpentance_criteria: "
   ]
  }
 ],
 "metadata": {
  "kernelspec": {
   "display_name": "Python 3 (ipykernel)",
   "language": "python",
   "name": "python3"
  },
  "language_info": {
   "codemirror_mode": {
    "name": "ipython",
    "version": 3
   },
   "file_extension": ".py",
   "mimetype": "text/x-python",
   "name": "python",
   "nbconvert_exporter": "python",
   "pygments_lexer": "ipython3",
   "version": "3.12.3"
  }
 },
 "nbformat": 4,
 "nbformat_minor": 5
}
